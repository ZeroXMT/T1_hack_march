{
  "nbformat": 4,
  "nbformat_minor": 0,
  "metadata": {
    "colab": {
      "provenance": []
    },
    "kernelspec": {
      "name": "python3",
      "display_name": "Python 3"
    },
    "language_info": {
      "name": "python"
    }
  },
  "cells": [
    {
      "cell_type": "code",
      "execution_count": 105,
      "metadata": {
        "id": "Y0xHk8JwUWTW"
      },
      "outputs": [],
      "source": [
        "import pandas as pd\n",
        "import numpy as np"
      ]
    },
    {
      "cell_type": "code",
      "source": [
        "data = pd.read_json('sample.json')\n",
        "data.info()"
      ],
      "metadata": {
        "colab": {
          "base_uri": "https://localhost:8080/"
        },
        "id": "apvjaztVUfd_",
        "outputId": "4cccec34-fbe1-459c-c65c-03518f067503"
      },
      "execution_count": 128,
      "outputs": [
        {
          "output_type": "stream",
          "name": "stdout",
          "text": [
            "<class 'pandas.core.frame.DataFrame'>\n",
            "RangeIndex: 133 entries, 0 to 132\n",
            "Columns: 111 entries, grace_period to mmtc_out_am\n",
            "dtypes: float64(78), int64(33)\n",
            "memory usage: 115.5 KB\n"
          ]
        }
      ]
    },
    {
      "cell_type": "code",
      "source": [
        "data = data.fillna(0)"
      ],
      "metadata": {
        "id": "k6yLEyS5UjUn"
      },
      "execution_count": 129,
      "outputs": []
    },
    {
      "cell_type": "code",
      "source": [
        "from sklearn.preprocessing import StandardScaler\n",
        "\n",
        "scaler = StandardScaler()\n",
        "data_scaled = scaler.fit_transform(data)\n",
        "data_scaled = pd.DataFrame(data_scaled, columns=data.columns)"
      ],
      "metadata": {
        "id": "vu4NV6YUUrDg"
      },
      "execution_count": 130,
      "outputs": []
    },
    {
      "cell_type": "code",
      "source": [
        "from sklearn.cluster import KMeans\n",
        "\n",
        "inertia = []\n",
        "for k in range(1, 100):\n",
        "  kmeans = KMeans(k, random_state=0, n_init=10)\n",
        "  kmeans.fit(data_scaled)\n",
        "  inertia.append(kmeans.inertia_)"
      ],
      "metadata": {
        "id": "p9TuSgqQUuP3"
      },
      "execution_count": 131,
      "outputs": []
    },
    {
      "cell_type": "code",
      "source": [
        "import matplotlib.pyplot as plt\n",
        "\n",
        "plt.figure(figsize=(8, 6))\n",
        "plt.plot(range(1, 100), inertia, marker='o')\n",
        "plt.title('Метод локтя')\n",
        "plt.xlabel('Кол-во кластеров (k)')\n",
        "plt.ylabel('Inertia')\n",
        "plt.show()"
      ],
      "metadata": {
        "colab": {
          "base_uri": "https://localhost:8080/",
          "height": 564
        },
        "id": "sDHl6ag4VE5b",
        "outputId": "ba0b909a-4782-43c7-b3db-4bb0fa1fef18"
      },
      "execution_count": 132,
      "outputs": [
        {
          "output_type": "display_data",
          "data": {
            "text/plain": [
              "<Figure size 800x600 with 1 Axes>"
            ],
            "image/png": "[encoded data removed]"
          },
          "metadata": {}
        }
      ]
    },
    {
      "cell_type": "code",
      "source": [
        "kmeans = KMeans(n_clusters=40, random_state=0, n_init='auto')\n",
        "data_scaled['cluster'] = kmeans.fit_predict(data_scaled)"
      ],
      "metadata": {
        "id": "RzOdh_RDVLEG"
      },
      "execution_count": 133,
      "outputs": []
    },
    {
      "cell_type": "code",
      "source": [
        "def get_cluster_indices_simplified(data_scaled):\n",
        "    \"\"\"\n",
        "    Возвращает словарь, где ключи - номера кластеров (отсортированные по возрастанию),\n",
        "    а значения - списки индексов строк data_scaled,\n",
        "    которые попали в этот кластер.\n",
        "\n",
        "    Args:\n",
        "        data_scaled: DataFrame с МАСШТАБИРОВАННЫМИ данными и столбцом 'cluster'.\n",
        "\n",
        "    Returns:\n",
        "        dict: Словарь с индексами строк для каждого кластера.\n",
        "    \"\"\"\n",
        "    cluster_indices = {}\n",
        "    for cluster_num in sorted(data_scaled['cluster'].unique()):  #  Используем .unique() и sorted()\n",
        "        indices = data_scaled.index[data_scaled['cluster'] == cluster_num].tolist() # Сразу преобразуем в список\n",
        "        cluster_indices[cluster_num] = indices\n",
        "    return cluster_indices"
      ],
      "metadata": {
        "id": "at4pLWTaaqDL"
      },
      "execution_count": 142,
      "outputs": []
    },
    {
      "cell_type": "code",
      "source": [
        "cluster_indices = get_cluster_indices_simplified(data_scaled)\n",
        "\n",
        "# --- Вывод результатов ---\n",
        "for cluster_num, indices in cluster_indices.items():\n",
        "    print(f\"Кластер {cluster_num}:\")\n",
        "    print(indices)\n",
        "    print(\"-\" * 20)"
      ],
      "metadata": {
        "colab": {
          "base_uri": "https://localhost:8080/"
        },
        "id": "oe9oAZscaqAG",
        "outputId": "89ceef7a-6cbd-4a42-e9b9-60da4f112dc3"
      },
      "execution_count": 143,
      "outputs": [
        {
          "output_type": "stream",
          "name": "stdout",
          "text": [
            "Кластер 0:\n",
            "[72]\n",
            "--------------------\n",
            "Кластер 1:\n",
            "[12, 19, 26, 29, 37, 41, 46, 64, 71, 76, 84, 101]\n",
            "--------------------\n",
            "Кластер 2:\n",
            "[57]\n",
            "--------------------\n",
            "Кластер 3:\n",
            "[10, 44, 48, 54, 59, 87, 99, 120, 123, 132]\n",
            "--------------------\n",
            "Кластер 4:\n",
            "[4, 86, 104]\n",
            "--------------------\n",
            "Кластер 5:\n",
            "[93]\n",
            "--------------------\n",
            "Кластер 6:\n",
            "[22]\n",
            "--------------------\n",
            "Кластер 7:\n",
            "[81]\n",
            "--------------------\n",
            "Кластер 8:\n",
            "[9, 16, 21, 58, 82]\n",
            "--------------------\n",
            "Кластер 9:\n",
            "[5, 11, 23, 31, 33, 36, 51, 90, 91, 92, 95, 106, 111, 119, 121]\n",
            "--------------------\n",
            "Кластер 10:\n",
            "[8, 30, 128]\n",
            "--------------------\n",
            "Кластер 11:\n",
            "[28]\n",
            "--------------------\n",
            "Кластер 12:\n",
            "[1, 17, 20, 32, 53, 62, 63, 70, 78, 88, 89, 105, 122]\n",
            "--------------------\n",
            "Кластер 13:\n",
            "[49]\n",
            "--------------------\n",
            "Кластер 14:\n",
            "[114]\n",
            "--------------------\n",
            "Кластер 15:\n",
            "[18, 24, 35, 50, 55, 61, 68, 73, 75, 97, 107]\n",
            "--------------------\n",
            "Кластер 16:\n",
            "[42]\n",
            "--------------------\n",
            "Кластер 17:\n",
            "[77, 96]\n",
            "--------------------\n",
            "Кластер 18:\n",
            "[45]\n",
            "--------------------\n",
            "Кластер 19:\n",
            "[94]\n",
            "--------------------\n",
            "Кластер 20:\n",
            "[98]\n",
            "--------------------\n",
            "Кластер 21:\n",
            "[2, 3, 13, 15, 25, 27, 34, 39, 40, 65, 67, 79, 83, 103, 108, 112, 113, 115, 126, 127]\n",
            "--------------------\n",
            "Кластер 22:\n",
            "[56]\n",
            "--------------------\n",
            "Кластер 23:\n",
            "[116]\n",
            "--------------------\n",
            "Кластер 24:\n",
            "[124, 129]\n",
            "--------------------\n",
            "Кластер 25:\n",
            "[52]\n",
            "--------------------\n",
            "Кластер 26:\n",
            "[38]\n",
            "--------------------\n",
            "Кластер 27:\n",
            "[74, 100, 117, 131]\n",
            "--------------------\n",
            "Кластер 28:\n",
            "[69, 85]\n",
            "--------------------\n",
            "Кластер 29:\n",
            "[14, 109, 125]\n",
            "--------------------\n",
            "Кластер 30:\n",
            "[7]\n",
            "--------------------\n",
            "Кластер 31:\n",
            "[80, 118]\n",
            "--------------------\n",
            "Кластер 32:\n",
            "[6]\n",
            "--------------------\n",
            "Кластер 33:\n",
            "[102]\n",
            "--------------------\n",
            "Кластер 34:\n",
            "[66]\n",
            "--------------------\n",
            "Кластер 35:\n",
            "[110]\n",
            "--------------------\n",
            "Кластер 36:\n",
            "[43]\n",
            "--------------------\n",
            "Кластер 37:\n",
            "[130]\n",
            "--------------------\n",
            "Кластер 38:\n",
            "[47]\n",
            "--------------------\n",
            "Кластер 39:\n",
            "[0, 60]\n",
            "--------------------\n"
          ]
        }
      ]
    },
    {
      "cell_type": "code",
      "source": [
        "from sklearn.metrics import silhouette_score\n",
        "from sklearn.metrics import calinski_harabasz_score\n",
        "\n",
        "silhouette_avg = silhouette_score(data_scaled, kmeans.labels_)\n",
        "print(f\"Средний коэффициент силуэта: {silhouette_avg}\")\n",
        "\n",
        "ch_score = calinski_harabasz_score(data_scaled, kmeans.labels_)\n",
        "print(f\"Индекс Калински-Харабаса: {ch_score}\")"
      ],
      "metadata": {
        "colab": {
          "base_uri": "https://localhost:8080/"
        },
        "id": "fPs7_Tc2WDSo",
        "outputId": "febf8b0f-69b1-4c79-bbcc-38fb0076729e"
      },
      "execution_count": 144,
      "outputs": [
        {
          "output_type": "stream",
          "name": "stdout",
          "text": [
            "Средний коэффициент силуэта: 0.22053527046496477\n",
            "Индекс Калински-Харабаса: 15.425597054872593\n"
          ]
        }
      ]
    },
    {
      "cell_type": "code",
      "source": [
        "# Пример определния кластера для рандомного вектора\n",
        "num_features = data_scaled.shape[1] - 1\n",
        "random_vector = np.random.rand(num_features)\n",
        "random_vector_scaled = scaler.transform(random_vector.reshape(1, -1))\n",
        "predicted_cluster = kmeans.predict(random_vector_scaled)[0]\n",
        "print(f\"Предсказанный кластер: {predicted_cluster}\")"
      ],
      "metadata": {
        "colab": {
          "base_uri": "https://localhost:8080/"
        },
        "id": "WGltG5OWnd0K",
        "outputId": "6ea33811-ff17-4b85-e7ca-78b2a64848a4"
      },
      "execution_count": 145,
      "outputs": [
        {
          "output_type": "stream",
          "name": "stdout",
          "text": [
            "Предсказанный кластер: 20\n"
          ]
        },
        {
          "output_type": "stream",
          "name": "stderr",
          "text": [
            "/usr/local/lib/python3.11/dist-packages/sklearn/utils/validation.py:2739: UserWarning: X does not have valid feature names, but StandardScaler was fitted with feature names\n",
            "  warnings.warn(\n",
            "/usr/local/lib/python3.11/dist-packages/sklearn/utils/validation.py:2739: UserWarning: X does not have valid feature names, but KMeans was fitted with feature names\n",
            "  warnings.warn(\n"
          ]
        }
      ]
    },
    {
      "cell_type": "code",
      "source": [],
      "metadata": {
        "id": "vxioiD9Fte7K"
      },
      "execution_count": null,
      "outputs": []
    }
  ]
}